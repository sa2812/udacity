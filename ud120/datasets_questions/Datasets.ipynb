{
 "cells": [
  {
   "cell_type": "code",
   "execution_count": 5,
   "metadata": {
    "collapsed": true
   },
   "outputs": [],
   "source": [
    "from explore_enron_data import *"
   ]
  },
  {
   "cell_type": "code",
   "execution_count": 46,
   "metadata": {},
   "outputs": [
    {
     "data": {
      "text/plain": [
       "146"
      ]
     },
     "execution_count": 46,
     "metadata": {},
     "output_type": "execute_result"
    }
   ],
   "source": [
    "num_people = len(enron_data.keys())\n",
    "num_people"
   ]
  },
  {
   "cell_type": "code",
   "execution_count": 7,
   "metadata": {},
   "outputs": [
    {
     "data": {
      "text/plain": [
       "21"
      ]
     },
     "execution_count": 7,
     "metadata": {},
     "output_type": "execute_result"
    }
   ],
   "source": [
    "person_1 = enron_data.keys()[0]\n",
    "person_1_features = enron_data[person_1]\n",
    "len(person_1_features)"
   ]
  },
  {
   "cell_type": "code",
   "execution_count": 9,
   "metadata": {},
   "outputs": [
    {
     "data": {
      "text/plain": [
       "18"
      ]
     },
     "execution_count": 9,
     "metadata": {},
     "output_type": "execute_result"
    }
   ],
   "source": [
    "poi_count = 0\n",
    "for person in enron_data:\n",
    "    if enron_data[person]['poi']:\n",
    "        poi_count += 1\n",
    "        \n",
    "poi_count"
   ]
  },
  {
   "cell_type": "code",
   "execution_count": 17,
   "metadata": {},
   "outputs": [
    {
     "data": {
      "text/plain": [
       "['METTS MARK',\n",
       " 'BAXTER JOHN C',\n",
       " 'ELLIOTT STEVEN',\n",
       " 'CORDES WILLIAM R',\n",
       " 'HANNON KEVIN P',\n",
       " 'MORDAUNT KRISTINA M',\n",
       " 'MEYER ROCKFORD G',\n",
       " 'MCMAHON JEFFREY',\n",
       " 'HORTON STANLEY C',\n",
       " 'PIPER GREGORY F',\n",
       " 'HUMPHREY GENE E',\n",
       " 'UMANOFF ADAM S',\n",
       " 'BLACHMAN JEREMY M',\n",
       " 'SUNDE MARTIN',\n",
       " 'GIBBS DANA R',\n",
       " 'LOWRY CHARLES P',\n",
       " 'COLWELL WESLEY',\n",
       " 'MULLER MARK S',\n",
       " 'JACKSON CHARLENE R',\n",
       " 'WESTFAHL RICHARD K',\n",
       " 'WALTERS GARETH W',\n",
       " 'WALLS JR ROBERT H',\n",
       " 'KITCHEN LOUISE',\n",
       " 'CHAN RONNIE',\n",
       " 'BELFER ROBERT',\n",
       " 'SHANKMAN JEFFREY A',\n",
       " 'WODRASKA JOHN',\n",
       " 'BERGSIEKER RICHARD P',\n",
       " 'URQUHART JOHN A',\n",
       " 'BIBI PHILIPPE A',\n",
       " 'RIEKER PAULA H',\n",
       " 'WHALEY DAVID A',\n",
       " 'BECK SALLY W',\n",
       " 'HAUG DAVID L',\n",
       " 'ECHOLS JOHN B',\n",
       " 'MENDELSOHN JOHN',\n",
       " 'HICKERSON GARY J',\n",
       " 'CLINE KENNETH W',\n",
       " 'LEWIS RICHARD',\n",
       " 'HAYES ROBERT E',\n",
       " 'MCCARTY DANNY J',\n",
       " 'KOPPER MICHAEL J',\n",
       " 'LEFF DANIEL P',\n",
       " 'LAVORATO JOHN J',\n",
       " 'BERBERIAN DAVID',\n",
       " 'DETMERING TIMOTHY J',\n",
       " 'WAKEHAM JOHN',\n",
       " 'POWERS WILLIAM',\n",
       " 'GOLD JOSEPH',\n",
       " 'BANNANTINE JAMES M',\n",
       " 'DUNCAN JOHN H',\n",
       " 'SHAPIRO RICHARD S',\n",
       " 'SHERRIFF JOHN R',\n",
       " 'SHELBY REX',\n",
       " 'LEMAISTRE CHARLES',\n",
       " 'DEFFNER JOSEPH M',\n",
       " 'KISHKILL JOSEPH G',\n",
       " 'WHALLEY LAWRENCE G',\n",
       " 'MCCONNELL MICHAEL S',\n",
       " 'PIRO JIM',\n",
       " 'DELAINEY DAVID W',\n",
       " 'SULLIVAN-SHAKLOVITZ COLLEEN',\n",
       " 'WROBEL BRUCE',\n",
       " 'LINDHOLM TOD A',\n",
       " 'MEYER JEROME J',\n",
       " 'LAY KENNETH L',\n",
       " 'BUTTS ROBERT H',\n",
       " 'OLSON CINDY K',\n",
       " 'MCDONALD REBECCA',\n",
       " 'CUMBERLAND MICHAEL S',\n",
       " 'GAHN ROBERT S',\n",
       " 'MCCLELLAN GEORGE',\n",
       " 'HERMANN ROBERT J',\n",
       " 'SCRIMSHAW MATTHEW',\n",
       " 'GATHMANN WILLIAM D',\n",
       " 'HAEDICKE MARK E',\n",
       " 'BOWEN JR RAYMOND M',\n",
       " 'GILLIS JOHN',\n",
       " 'FITZGERALD JAY L',\n",
       " 'MORAN MICHAEL P',\n",
       " 'REDMOND BRIAN L',\n",
       " 'BAZELIDES PHILIP J',\n",
       " 'BELDEN TIMOTHY N',\n",
       " 'DURAN WILLIAM D',\n",
       " 'THORN TERENCE H',\n",
       " 'FASTOW ANDREW S',\n",
       " 'FOY JOE',\n",
       " 'CALGER CHRISTOPHER F',\n",
       " 'RICE KENNETH D',\n",
       " 'KAMINSKI WINCENTY J',\n",
       " 'LOCKHART EUGENE E',\n",
       " 'COX DAVID',\n",
       " 'OVERDYKE JR JERE C',\n",
       " 'PEREIRA PAULO V. FERRAZ',\n",
       " 'STABLER FRANK',\n",
       " 'SKILLING JEFFREY K',\n",
       " 'BLAKE JR. NORMAN P',\n",
       " 'SHERRICK JEFFREY B',\n",
       " 'PRENTICE JAMES',\n",
       " 'GRAY RODNEY',\n",
       " 'PICKERING MARK R',\n",
       " 'THE TRAVEL AGENCY IN THE PARK',\n",
       " 'NOLES JAMES L',\n",
       " 'KEAN STEVEN J',\n",
       " 'TOTAL',\n",
       " 'FOWLER PEGGY',\n",
       " 'WASAFF GEORGE',\n",
       " 'WHITE JR THOMAS E',\n",
       " 'CHRISTODOULOU DIOMEDES',\n",
       " 'ALLEN PHILLIP K',\n",
       " 'SHARP VICTORIA T',\n",
       " 'JAEDICKE ROBERT',\n",
       " 'WINOKUR JR. HERBERT S',\n",
       " 'BROWN MICHAEL',\n",
       " 'BADUM JAMES P',\n",
       " 'HUGHES JAMES A',\n",
       " 'REYNOLDS LAWRENCE',\n",
       " 'DIMICHELE RICHARD G',\n",
       " 'BHATNAGAR SANJAY',\n",
       " 'CARTER REBECCA C',\n",
       " 'BUCHANAN HAROLD G',\n",
       " 'YEAP SOON',\n",
       " 'MURRAY JULIA H',\n",
       " 'GARLAND C KEVIN',\n",
       " 'DODSON KEITH',\n",
       " 'YEAGER F SCOTT',\n",
       " 'HIRKO JOSEPH',\n",
       " 'DIETRICH JANET R',\n",
       " 'DERRICK JR. JAMES V',\n",
       " 'FREVERT MARK A',\n",
       " 'PAI LOU L',\n",
       " 'BAY FRANKLIN R',\n",
       " 'HAYSLETT RODERICK J',\n",
       " 'FUGH JOHN L',\n",
       " 'FALLON JAMES B',\n",
       " 'KOENIG MARK E',\n",
       " 'SAVAGE FRANK',\n",
       " 'IZZO LAWRENCE L',\n",
       " 'TILNEY ELIZABETH A',\n",
       " 'MARTIN AMANDA K',\n",
       " 'BUY RICHARD B',\n",
       " 'GRAMM WENDY L',\n",
       " 'CAUSEY RICHARD A',\n",
       " 'TAYLOR MITCHELL S',\n",
       " 'DONAHUE JR JEFFREY M',\n",
       " 'GLISAN JR BEN F']"
      ]
     },
     "execution_count": 17,
     "metadata": {},
     "output_type": "execute_result"
    }
   ],
   "source": [
    "enron_data.keys()"
   ]
  },
  {
   "cell_type": "code",
   "execution_count": 13,
   "metadata": {},
   "outputs": [
    {
     "data": {
      "text/plain": [
       "1095040"
      ]
     },
     "execution_count": 13,
     "metadata": {},
     "output_type": "execute_result"
    }
   ],
   "source": [
    "enron_data['PRENTICE JAMES']['total_stock_value']"
   ]
  },
  {
   "cell_type": "code",
   "execution_count": 16,
   "metadata": {},
   "outputs": [
    {
     "data": {
      "text/plain": [
       "11"
      ]
     },
     "execution_count": 16,
     "metadata": {},
     "output_type": "execute_result"
    }
   ],
   "source": [
    "enron_data['COLWELL WESLEY']['from_this_person_to_poi']"
   ]
  },
  {
   "cell_type": "code",
   "execution_count": 19,
   "metadata": {},
   "outputs": [
    {
     "data": {
      "text/plain": [
       "19250000"
      ]
     },
     "execution_count": 19,
     "metadata": {},
     "output_type": "execute_result"
    }
   ],
   "source": [
    "enron_data['SKILLING JEFFREY K']['exercised_stock_options']"
   ]
  },
  {
   "cell_type": "code",
   "execution_count": 23,
   "metadata": {},
   "outputs": [
    {
     "data": {
      "text/plain": [
       "8682716"
      ]
     },
     "execution_count": 23,
     "metadata": {},
     "output_type": "execute_result"
    }
   ],
   "source": [
    "enron_data['SKILLING JEFFREY K']['total_payments']"
   ]
  },
  {
   "cell_type": "code",
   "execution_count": 24,
   "metadata": {},
   "outputs": [
    {
     "data": {
      "text/plain": [
       "103559793"
      ]
     },
     "execution_count": 24,
     "metadata": {},
     "output_type": "execute_result"
    }
   ],
   "source": [
    "enron_data['LAY KENNETH L']['total_payments']"
   ]
  },
  {
   "cell_type": "code",
   "execution_count": 31,
   "metadata": {},
   "outputs": [
    {
     "data": {
      "text/plain": [
       "2424083"
      ]
     },
     "execution_count": 31,
     "metadata": {},
     "output_type": "execute_result"
    }
   ],
   "source": [
    "enron_data['FASTOW ANDREW S']['total_payments']"
   ]
  },
  {
   "cell_type": "code",
   "execution_count": 34,
   "metadata": {},
   "outputs": [],
   "source": [
    "person_with_salary_count = 0\n",
    "person_with_email = 0\n",
    "for person in enron_data:\n",
    "    if enron_data[person]['salary'] != 'NaN':\n",
    "        person_with_salary_count += 1\n",
    "    if enron_data[person]['email_address'] != 'NaN':\n",
    "        person_with_email += 1"
   ]
  },
  {
   "cell_type": "code",
   "execution_count": 35,
   "metadata": {},
   "outputs": [
    {
     "data": {
      "text/plain": [
       "95"
      ]
     },
     "execution_count": 35,
     "metadata": {},
     "output_type": "execute_result"
    }
   ],
   "source": [
    "person_with_salary_count"
   ]
  },
  {
   "cell_type": "code",
   "execution_count": 36,
   "metadata": {},
   "outputs": [
    {
     "data": {
      "text/plain": [
       "111"
      ]
     },
     "execution_count": 36,
     "metadata": {},
     "output_type": "execute_result"
    }
   ],
   "source": [
    "person_with_email"
   ]
  },
  {
   "cell_type": "code",
   "execution_count": 49,
   "metadata": {},
   "outputs": [
    {
     "data": {
      "text/plain": [
       "0.1987179487179487"
      ]
     },
     "execution_count": 49,
     "metadata": {},
     "output_type": "execute_result"
    }
   ],
   "source": [
    "financial_info_NaN_count = 0\n",
    "for person in enron_data:\n",
    "    if enron_data[person]['total_payments'] == 'NaN':\n",
    "        financial_info_NaN_count += 1\n",
    "        \n",
    "float(financial_info_NaN_count+10)/(num_people+10)"
   ]
  },
  {
   "cell_type": "code",
   "execution_count": 50,
   "metadata": {},
   "outputs": [
    {
     "data": {
      "text/plain": [
       "31"
      ]
     },
     "execution_count": 50,
     "metadata": {},
     "output_type": "execute_result"
    }
   ],
   "source": [
    "financial_info_NaN_count+10"
   ]
  },
  {
   "cell_type": "code",
   "execution_count": 51,
   "metadata": {},
   "outputs": [
    {
     "data": {
      "text/plain": [
       "28"
      ]
     },
     "execution_count": 51,
     "metadata": {},
     "output_type": "execute_result"
    }
   ],
   "source": [
    "poi_count+10"
   ]
  },
  {
   "cell_type": "code",
   "execution_count": null,
   "metadata": {
    "collapsed": true
   },
   "outputs": [],
   "source": []
  }
 ],
 "metadata": {
  "kernelspec": {
   "display_name": "Python 2",
   "language": "python",
   "name": "python2"
  },
  "language_info": {
   "codemirror_mode": {
    "name": "ipython",
    "version": 2
   },
   "file_extension": ".py",
   "mimetype": "text/x-python",
   "name": "python",
   "nbconvert_exporter": "python",
   "pygments_lexer": "ipython2",
   "version": "2.7.13"
  }
 },
 "nbformat": 4,
 "nbformat_minor": 2
}
